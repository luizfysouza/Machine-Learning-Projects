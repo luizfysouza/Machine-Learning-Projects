{
 "cells": [
  {
   "cell_type": "code",
   "execution_count": 1,
   "metadata": {},
   "outputs": [],
   "source": [
    "import pandas as pd\n",
    "import numpy as np\n",
    "import matplotlib.pyplot as plt\n",
    "from sklearn.naive_bayes import GaussianNB\n",
    "from sklearn.model_selection import train_test_split\n",
    "from sklearn.model_selection import KFold\n",
    "from sklearn.metrics import accuracy_score\n",
    "from sklearn.tree import DecisionTreeClassifier\n",
    "import statistics\n",
    "from sklearn.preprocessing import MinMaxScaler\n",
    "from sklearn.preprocessing import StandardScaler\n",
    "scaler2 = StandardScaler()\n",
    "scaler = MinMaxScaler()"
   ]
  },
  {
   "cell_type": "code",
   "execution_count": 2,
   "metadata": {},
   "outputs": [
    {
     "data": {
      "text/html": [
       "<div>\n",
       "<style scoped>\n",
       "    .dataframe tbody tr th:only-of-type {\n",
       "        vertical-align: middle;\n",
       "    }\n",
       "\n",
       "    .dataframe tbody tr th {\n",
       "        vertical-align: top;\n",
       "    }\n",
       "\n",
       "    .dataframe thead th {\n",
       "        text-align: right;\n",
       "    }\n",
       "</style>\n",
       "<table border=\"1\" class=\"dataframe\">\n",
       "  <thead>\n",
       "    <tr style=\"text-align: right;\">\n",
       "      <th></th>\n",
       "      <th>kepoi_name</th>\n",
       "      <th>koi_disposition</th>\n",
       "      <th>koi_period</th>\n",
       "      <th>koi_impact</th>\n",
       "      <th>koi_duration</th>\n",
       "      <th>koi_depth</th>\n",
       "      <th>koi_ror</th>\n",
       "      <th>koi_srho</th>\n",
       "      <th>koi_prad</th>\n",
       "      <th>koi_sma</th>\n",
       "      <th>...</th>\n",
       "      <th>koi_fwm_srao</th>\n",
       "      <th>koi_fwm_sdeco</th>\n",
       "      <th>koi_fwm_prao</th>\n",
       "      <th>koi_fwm_pdeco</th>\n",
       "      <th>koi_dicco_mra</th>\n",
       "      <th>koi_dicco_mdec</th>\n",
       "      <th>koi_dicco_msky</th>\n",
       "      <th>koi_dikco_mra</th>\n",
       "      <th>koi_dikco_mdec</th>\n",
       "      <th>koi_dikco_msky</th>\n",
       "    </tr>\n",
       "  </thead>\n",
       "  <tbody>\n",
       "    <tr>\n",
       "      <th>0</th>\n",
       "      <td>K00752.01</td>\n",
       "      <td>CONFIRMED</td>\n",
       "      <td>9.48804</td>\n",
       "      <td>0.146</td>\n",
       "      <td>2.95750</td>\n",
       "      <td>615.8</td>\n",
       "      <td>0.02234</td>\n",
       "      <td>3.20796</td>\n",
       "      <td>2.26</td>\n",
       "      <td>0.0853</td>\n",
       "      <td>...</td>\n",
       "      <td>0.430</td>\n",
       "      <td>0.940</td>\n",
       "      <td>-0.00020</td>\n",
       "      <td>-0.00055</td>\n",
       "      <td>-0.010</td>\n",
       "      <td>0.200</td>\n",
       "      <td>0.200</td>\n",
       "      <td>0.080</td>\n",
       "      <td>0.310</td>\n",
       "      <td>0.320</td>\n",
       "    </tr>\n",
       "    <tr>\n",
       "      <th>1</th>\n",
       "      <td>K00752.02</td>\n",
       "      <td>CONFIRMED</td>\n",
       "      <td>54.41838</td>\n",
       "      <td>0.586</td>\n",
       "      <td>4.50700</td>\n",
       "      <td>874.8</td>\n",
       "      <td>0.02795</td>\n",
       "      <td>3.02368</td>\n",
       "      <td>2.83</td>\n",
       "      <td>0.2734</td>\n",
       "      <td>...</td>\n",
       "      <td>-0.630</td>\n",
       "      <td>1.230</td>\n",
       "      <td>0.00066</td>\n",
       "      <td>-0.00105</td>\n",
       "      <td>0.390</td>\n",
       "      <td>0.000</td>\n",
       "      <td>0.390</td>\n",
       "      <td>0.490</td>\n",
       "      <td>0.120</td>\n",
       "      <td>0.500</td>\n",
       "    </tr>\n",
       "    <tr>\n",
       "      <th>2</th>\n",
       "      <td>K00754.01</td>\n",
       "      <td>FALSE POSITIVE</td>\n",
       "      <td>1.73695</td>\n",
       "      <td>1.276</td>\n",
       "      <td>2.40641</td>\n",
       "      <td>8079.2</td>\n",
       "      <td>0.38739</td>\n",
       "      <td>0.22080</td>\n",
       "      <td>33.46</td>\n",
       "      <td>0.0267</td>\n",
       "      <td>...</td>\n",
       "      <td>-0.111</td>\n",
       "      <td>0.002</td>\n",
       "      <td>0.00302</td>\n",
       "      <td>-0.00142</td>\n",
       "      <td>-0.249</td>\n",
       "      <td>0.147</td>\n",
       "      <td>0.289</td>\n",
       "      <td>-0.257</td>\n",
       "      <td>0.099</td>\n",
       "      <td>0.276</td>\n",
       "    </tr>\n",
       "    <tr>\n",
       "      <th>3</th>\n",
       "      <td>K00755.01</td>\n",
       "      <td>CONFIRMED</td>\n",
       "      <td>2.52559</td>\n",
       "      <td>0.701</td>\n",
       "      <td>1.65450</td>\n",
       "      <td>603.3</td>\n",
       "      <td>0.02406</td>\n",
       "      <td>1.98635</td>\n",
       "      <td>2.75</td>\n",
       "      <td>0.0374</td>\n",
       "      <td>...</td>\n",
       "      <td>-0.010</td>\n",
       "      <td>0.230</td>\n",
       "      <td>0.00008</td>\n",
       "      <td>-0.00007</td>\n",
       "      <td>0.030</td>\n",
       "      <td>-0.090</td>\n",
       "      <td>0.100</td>\n",
       "      <td>0.070</td>\n",
       "      <td>0.020</td>\n",
       "      <td>0.070</td>\n",
       "    </tr>\n",
       "    <tr>\n",
       "      <th>4</th>\n",
       "      <td>K00114.01</td>\n",
       "      <td>FALSE POSITIVE</td>\n",
       "      <td>7.36179</td>\n",
       "      <td>1.169</td>\n",
       "      <td>5.02200</td>\n",
       "      <td>233.7</td>\n",
       "      <td>0.18339</td>\n",
       "      <td>0.00485</td>\n",
       "      <td>39.21</td>\n",
       "      <td>0.0820</td>\n",
       "      <td>...</td>\n",
       "      <td>-13.450</td>\n",
       "      <td>24.090</td>\n",
       "      <td>0.00303</td>\n",
       "      <td>-0.00555</td>\n",
       "      <td>-4.506</td>\n",
       "      <td>7.710</td>\n",
       "      <td>8.930</td>\n",
       "      <td>-4.537</td>\n",
       "      <td>7.713</td>\n",
       "      <td>8.948</td>\n",
       "    </tr>\n",
       "  </tbody>\n",
       "</table>\n",
       "<p>5 rows × 43 columns</p>\n",
       "</div>"
      ],
      "text/plain": [
       "  kepoi_name koi_disposition  koi_period  koi_impact  koi_duration  koi_depth  \\\n",
       "0  K00752.01       CONFIRMED     9.48804       0.146       2.95750      615.8   \n",
       "1  K00752.02       CONFIRMED    54.41838       0.586       4.50700      874.8   \n",
       "2  K00754.01  FALSE POSITIVE     1.73695       1.276       2.40641     8079.2   \n",
       "3  K00755.01       CONFIRMED     2.52559       0.701       1.65450      603.3   \n",
       "4  K00114.01  FALSE POSITIVE     7.36179       1.169       5.02200      233.7   \n",
       "\n",
       "   koi_ror  koi_srho  koi_prad  koi_sma  ...  koi_fwm_srao  koi_fwm_sdeco  \\\n",
       "0  0.02234   3.20796      2.26   0.0853  ...         0.430          0.940   \n",
       "1  0.02795   3.02368      2.83   0.2734  ...        -0.630          1.230   \n",
       "2  0.38739   0.22080     33.46   0.0267  ...        -0.111          0.002   \n",
       "3  0.02406   1.98635      2.75   0.0374  ...        -0.010          0.230   \n",
       "4  0.18339   0.00485     39.21   0.0820  ...       -13.450         24.090   \n",
       "\n",
       "   koi_fwm_prao  koi_fwm_pdeco  koi_dicco_mra  koi_dicco_mdec  koi_dicco_msky  \\\n",
       "0      -0.00020       -0.00055         -0.010           0.200           0.200   \n",
       "1       0.00066       -0.00105          0.390           0.000           0.390   \n",
       "2       0.00302       -0.00142         -0.249           0.147           0.289   \n",
       "3       0.00008       -0.00007          0.030          -0.090           0.100   \n",
       "4       0.00303       -0.00555         -4.506           7.710           8.930   \n",
       "\n",
       "   koi_dikco_mra  koi_dikco_mdec  koi_dikco_msky  \n",
       "0          0.080           0.310           0.320  \n",
       "1          0.490           0.120           0.500  \n",
       "2         -0.257           0.099           0.276  \n",
       "3          0.070           0.020           0.070  \n",
       "4         -4.537           7.713           8.948  \n",
       "\n",
       "[5 rows x 43 columns]"
      ]
     },
     "execution_count": 2,
     "metadata": {},
     "output_type": "execute_result"
    }
   ],
   "source": [
    "df = pd.read_csv('koi_data.csv')\n",
    "df.head()"
   ]
  },
  {
   "cell_type": "code",
   "execution_count": 3,
   "metadata": {},
   "outputs": [
    {
     "data": {
      "text/html": [
       "<div>\n",
       "<style scoped>\n",
       "    .dataframe tbody tr th:only-of-type {\n",
       "        vertical-align: middle;\n",
       "    }\n",
       "\n",
       "    .dataframe tbody tr th {\n",
       "        vertical-align: top;\n",
       "    }\n",
       "\n",
       "    .dataframe thead th {\n",
       "        text-align: right;\n",
       "    }\n",
       "</style>\n",
       "<table border=\"1\" class=\"dataframe\">\n",
       "  <thead>\n",
       "    <tr style=\"text-align: right;\">\n",
       "      <th></th>\n",
       "      <th>koi_disposition</th>\n",
       "      <th>koi_period</th>\n",
       "      <th>koi_impact</th>\n",
       "      <th>koi_duration</th>\n",
       "      <th>koi_depth</th>\n",
       "      <th>koi_ror</th>\n",
       "      <th>koi_srho</th>\n",
       "      <th>koi_prad</th>\n",
       "      <th>koi_sma</th>\n",
       "      <th>koi_incl</th>\n",
       "      <th>...</th>\n",
       "      <th>koi_fwm_srao</th>\n",
       "      <th>koi_fwm_sdeco</th>\n",
       "      <th>koi_fwm_prao</th>\n",
       "      <th>koi_fwm_pdeco</th>\n",
       "      <th>koi_dicco_mra</th>\n",
       "      <th>koi_dicco_mdec</th>\n",
       "      <th>koi_dicco_msky</th>\n",
       "      <th>koi_dikco_mra</th>\n",
       "      <th>koi_dikco_mdec</th>\n",
       "      <th>koi_dikco_msky</th>\n",
       "    </tr>\n",
       "  </thead>\n",
       "  <tbody>\n",
       "    <tr>\n",
       "      <th>0</th>\n",
       "      <td>1</td>\n",
       "      <td>9.48804</td>\n",
       "      <td>0.146</td>\n",
       "      <td>2.95750</td>\n",
       "      <td>615.8</td>\n",
       "      <td>0.02234</td>\n",
       "      <td>3.20796</td>\n",
       "      <td>2.26</td>\n",
       "      <td>0.0853</td>\n",
       "      <td>89.66</td>\n",
       "      <td>...</td>\n",
       "      <td>0.430</td>\n",
       "      <td>0.940</td>\n",
       "      <td>-0.00020</td>\n",
       "      <td>-0.00055</td>\n",
       "      <td>-0.010</td>\n",
       "      <td>0.200</td>\n",
       "      <td>0.200</td>\n",
       "      <td>0.080</td>\n",
       "      <td>0.310</td>\n",
       "      <td>0.320</td>\n",
       "    </tr>\n",
       "    <tr>\n",
       "      <th>1</th>\n",
       "      <td>1</td>\n",
       "      <td>54.41838</td>\n",
       "      <td>0.586</td>\n",
       "      <td>4.50700</td>\n",
       "      <td>874.8</td>\n",
       "      <td>0.02795</td>\n",
       "      <td>3.02368</td>\n",
       "      <td>2.83</td>\n",
       "      <td>0.2734</td>\n",
       "      <td>89.57</td>\n",
       "      <td>...</td>\n",
       "      <td>-0.630</td>\n",
       "      <td>1.230</td>\n",
       "      <td>0.00066</td>\n",
       "      <td>-0.00105</td>\n",
       "      <td>0.390</td>\n",
       "      <td>0.000</td>\n",
       "      <td>0.390</td>\n",
       "      <td>0.490</td>\n",
       "      <td>0.120</td>\n",
       "      <td>0.500</td>\n",
       "    </tr>\n",
       "    <tr>\n",
       "      <th>2</th>\n",
       "      <td>0</td>\n",
       "      <td>1.73695</td>\n",
       "      <td>1.276</td>\n",
       "      <td>2.40641</td>\n",
       "      <td>8079.2</td>\n",
       "      <td>0.38739</td>\n",
       "      <td>0.22080</td>\n",
       "      <td>33.46</td>\n",
       "      <td>0.0267</td>\n",
       "      <td>67.09</td>\n",
       "      <td>...</td>\n",
       "      <td>-0.111</td>\n",
       "      <td>0.002</td>\n",
       "      <td>0.00302</td>\n",
       "      <td>-0.00142</td>\n",
       "      <td>-0.249</td>\n",
       "      <td>0.147</td>\n",
       "      <td>0.289</td>\n",
       "      <td>-0.257</td>\n",
       "      <td>0.099</td>\n",
       "      <td>0.276</td>\n",
       "    </tr>\n",
       "    <tr>\n",
       "      <th>3</th>\n",
       "      <td>1</td>\n",
       "      <td>2.52559</td>\n",
       "      <td>0.701</td>\n",
       "      <td>1.65450</td>\n",
       "      <td>603.3</td>\n",
       "      <td>0.02406</td>\n",
       "      <td>1.98635</td>\n",
       "      <td>2.75</td>\n",
       "      <td>0.0374</td>\n",
       "      <td>85.41</td>\n",
       "      <td>...</td>\n",
       "      <td>-0.010</td>\n",
       "      <td>0.230</td>\n",
       "      <td>0.00008</td>\n",
       "      <td>-0.00007</td>\n",
       "      <td>0.030</td>\n",
       "      <td>-0.090</td>\n",
       "      <td>0.100</td>\n",
       "      <td>0.070</td>\n",
       "      <td>0.020</td>\n",
       "      <td>0.070</td>\n",
       "    </tr>\n",
       "    <tr>\n",
       "      <th>4</th>\n",
       "      <td>0</td>\n",
       "      <td>7.36179</td>\n",
       "      <td>1.169</td>\n",
       "      <td>5.02200</td>\n",
       "      <td>233.7</td>\n",
       "      <td>0.18339</td>\n",
       "      <td>0.00485</td>\n",
       "      <td>39.21</td>\n",
       "      <td>0.0820</td>\n",
       "      <td>60.92</td>\n",
       "      <td>...</td>\n",
       "      <td>-13.450</td>\n",
       "      <td>24.090</td>\n",
       "      <td>0.00303</td>\n",
       "      <td>-0.00555</td>\n",
       "      <td>-4.506</td>\n",
       "      <td>7.710</td>\n",
       "      <td>8.930</td>\n",
       "      <td>-4.537</td>\n",
       "      <td>7.713</td>\n",
       "      <td>8.948</td>\n",
       "    </tr>\n",
       "  </tbody>\n",
       "</table>\n",
       "<p>5 rows × 42 columns</p>\n",
       "</div>"
      ],
      "text/plain": [
       "   koi_disposition  koi_period  koi_impact  koi_duration  koi_depth  koi_ror  \\\n",
       "0                1     9.48804       0.146       2.95750      615.8  0.02234   \n",
       "1                1    54.41838       0.586       4.50700      874.8  0.02795   \n",
       "2                0     1.73695       1.276       2.40641     8079.2  0.38739   \n",
       "3                1     2.52559       0.701       1.65450      603.3  0.02406   \n",
       "4                0     7.36179       1.169       5.02200      233.7  0.18339   \n",
       "\n",
       "   koi_srho  koi_prad  koi_sma  koi_incl  ...  koi_fwm_srao  koi_fwm_sdeco  \\\n",
       "0   3.20796      2.26   0.0853     89.66  ...         0.430          0.940   \n",
       "1   3.02368      2.83   0.2734     89.57  ...        -0.630          1.230   \n",
       "2   0.22080     33.46   0.0267     67.09  ...        -0.111          0.002   \n",
       "3   1.98635      2.75   0.0374     85.41  ...        -0.010          0.230   \n",
       "4   0.00485     39.21   0.0820     60.92  ...       -13.450         24.090   \n",
       "\n",
       "   koi_fwm_prao  koi_fwm_pdeco  koi_dicco_mra  koi_dicco_mdec  koi_dicco_msky  \\\n",
       "0      -0.00020       -0.00055         -0.010           0.200           0.200   \n",
       "1       0.00066       -0.00105          0.390           0.000           0.390   \n",
       "2       0.00302       -0.00142         -0.249           0.147           0.289   \n",
       "3       0.00008       -0.00007          0.030          -0.090           0.100   \n",
       "4       0.00303       -0.00555         -4.506           7.710           8.930   \n",
       "\n",
       "   koi_dikco_mra  koi_dikco_mdec  koi_dikco_msky  \n",
       "0          0.080           0.310           0.320  \n",
       "1          0.490           0.120           0.500  \n",
       "2         -0.257           0.099           0.276  \n",
       "3          0.070           0.020           0.070  \n",
       "4         -4.537           7.713           8.948  \n",
       "\n",
       "[5 rows x 42 columns]"
      ]
     },
     "execution_count": 3,
     "metadata": {},
     "output_type": "execute_result"
    }
   ],
   "source": [
    "#Change string to 1 and 0, in order to process the data\n",
    "df['koi_disposition']= df['koi_disposition'].map({'CONFIRMED':1, 'FALSE POSITIVE':0})\n",
    "df.pop('kepoi_name')\n",
    "df.head()"
   ]
  },
  {
   "cell_type": "code",
   "execution_count": 4,
   "metadata": {},
   "outputs": [],
   "source": [
    "#split data into target variable and predictors\n",
    "X = df.loc[:, 'koi_period':'koi_dikco_msky']\n",
    "y = df['koi_disposition']"
   ]
  },
  {
   "cell_type": "code",
   "execution_count": 5,
   "metadata": {},
   "outputs": [
    {
     "data": {
      "text/plain": [
       "((3901, 41), (1301, 41), (3901,), (1301,))"
      ]
     },
     "execution_count": 5,
     "metadata": {},
     "output_type": "execute_result"
    }
   ],
   "source": [
    "#split data into train and test\n",
    "X_train, X_test, y_train, y_test = train_test_split(X, y, test_size=0.25, random_state=0)\n",
    "X_train.shape, X_test.shape, y_train.shape, y_test.shape"
   ]
  },
  {
   "cell_type": "markdown",
   "metadata": {},
   "source": [
    "The below cell trains a naive bayes model and uses it to predict the classification with a k-fold cross validation, considering k=5.\n",
    "Than compute the mean of the accuracy of all iterations, using it as a baseline for the next models.\n"
   ]
  },
  {
   "cell_type": "code",
   "execution_count": 6,
   "metadata": {},
   "outputs": [
    {
     "name": "stdout",
     "output_type": "stream",
     "text": [
      "accuracy: 0.8847262247838616\n",
      "accuracy: 0.8645533141210374\n",
      "accuracy: 0.7423076923076923\n",
      "accuracy: 0.7778846153846154\n",
      "accuracy: 0.7461538461538462\n",
      "mean : 0.8031251385502106\n"
     ]
    }
   ],
   "source": [
    "fold = KFold(n_splits=5)\n",
    "accuracy = []\n",
    "for train, test in fold.split(df.values):\n",
    "\tX_train = df.loc[:, 'koi_period':'koi_dikco_msky'].values[train]\n",
    "\tX_test = df.loc[:, 'koi_period':'koi_dikco_msky'].values[test]\n",
    "\ty_train = df['koi_disposition'].values[train]\n",
    "\ty_test = df['koi_disposition'].values[test]\n",
    "\n",
    "\n",
    "\t#X_train = scaler.fit_transform(X_train)\n",
    "\t#X_test = scaler.fit_transform(X_test)\n",
    "\tmodelnb = GaussianNB()\n",
    "\tmodelnb.fit(X_train, y_train)\n",
    "\n",
    "\ty_pred = modelnb.predict(X_test)\n",
    "\taccuracy.append(accuracy_score(y_test, y_pred))\n",
    "\n",
    "\tprint('accuracy: %s' % (accuracy_score(y_test, y_pred)))\n",
    "\t\n",
    "print('mean : %s' %(np.mean(accuracy)))"
   ]
  },
  {
   "cell_type": "markdown",
   "metadata": {},
   "source": [
    "Decision trees\n",
    "Now, a decision tree will be implemented. First, the model varies the tree's max length between 1 and 10, and then one experiment with unlimited length is made.\n",
    "Vary this parameter results in models with different capacities: bigger trees have more complexity than small trees, which is good for reducing the training error. However, it can lead the model to overfitting, which we don't want, since it will worsen the generalization, and the model will not be able to predict different parts of the data."
   ]
  },
  {
   "cell_type": "code",
   "execution_count": 32,
   "metadata": {},
   "outputs": [
    {
     "name": "stdout",
     "output_type": "stream",
     "text": [
      "n: 1, accuracy: 0.41442307692307695\n",
      "n: 2, accuracy: 0.8307692307692308\n",
      "n: 3, accuracy: 0.9105769230769231\n",
      "n: 4, accuracy: 0.9125\n",
      "n: 5, accuracy: 0.9413461538461538\n",
      "n: 6, accuracy: 0.9326923076923077\n",
      "n: 7, accuracy: 0.9384615384615385\n",
      "n: 8, accuracy: 0.925\n",
      "n: 9, accuracy: 0.9259615384615385\n",
      "n: 10, accuracy: 0.926923076923077\n",
      "n: None, accuracy: 0.9307692307692308\n",
      "mean : 0.9377179856646716\n"
     ]
    }
   ],
   "source": [
    "fold = KFold(n_splits=5)\n",
    "dic = {'n':[], 'accuracy':[]}\n",
    "for n in range(1,12):\n",
    "\taccuracy = []\n",
    "\tif (n==11): n=None\n",
    "\tfor train, test in fold.split(df.values):\n",
    "\t\t#print('train: %s, test: %s' % (df.values[train], df.values[test]))\n",
    "\t\tX_train = df.loc[:, 'koi_period':'koi_dikco_msky'].values[train]\n",
    "\t\tX_test = df.loc[:, 'koi_period':'koi_dikco_msky'].values[test]\n",
    "\t\ty_train = df['koi_disposition'].values[train]\n",
    "\t\ty_test = df['koi_disposition'].values[test]\n",
    "\n",
    "\t\tX_train = scaler.fit_transform(X_train)\n",
    "\t\tX_test = scaler.transform(X_test)\n",
    "\t\tmodeldt = DecisionTreeClassifier(max_depth=n)\n",
    "\t\tmodeldt.fit(X_train, y_train)\n",
    "\t\ty_pred = modeldt.predict(X_test)\n",
    "\t\taccuracy.append(accuracy_score(y_test, y_pred))\n",
    "\tdic['n'].append(n)\n",
    "\tdic['accuracy'].append(np.mean(accuracy))\n",
    "\tprint('n: %s, accuracy: %s' % (n, accuracy_score(y_test, y_pred)))\n",
    "\n",
    "print('mean : %s' %(np.mean(accuracy)))"
   ]
  },
  {
   "cell_type": "code",
   "execution_count": 17,
   "metadata": {},
   "outputs": [
    {
     "data": {
      "text/plain": [
       "[<matplotlib.lines.Line2D at 0x7f24746c9b50>]"
      ]
     },
     "execution_count": 17,
     "metadata": {},
     "output_type": "execute_result"
    },
    {
     "data": {
      "image/png": "[encoded data removed]",
      "text/plain": [
       "<Figure size 1080x216 with 1 Axes>"
      ]
     },
     "metadata": {
      "needs_background": "light"
     },
     "output_type": "display_data"
    }
   ],
   "source": [
    "fig, ax = plt.subplots(nrows=1, ncols=1,figsize=[15,3])\n",
    "plt.plot(dic['accuracy'])"
   ]
  },
  {
   "cell_type": "markdown",
   "metadata": {},
   "source": [
    "In this case, it is possible to see that n = 5 resulted in the best generalization and the greatest accuracy, it had the best performance with all different test and training datasets.\n",
    "It is possible to see that, at first, accuracy increases along with the accuracy, although it starts to decrease later, and that is the overfitting, even unlimited length has a worse accuracy than n=5."
   ]
  },
  {
   "cell_type": "markdown",
   "metadata": {},
   "source": [
    "Support Vector Machines\n",
    "Below is implemented a SVM model with different kernels: linear, sigmoid, polynomial, and rbf.\n",
    "Each kernel results in different representations of the data, making it possible to perfectly separate the data or not."
   ]
  },
  {
   "cell_type": "code",
   "execution_count": 7,
   "metadata": {},
   "outputs": [
    {
     "name": "stdout",
     "output_type": "stream",
     "text": [
      "kernel: linear, accuracy: 0.8913461538461539\n",
      "kernel: sigmoid, accuracy: 0.45096153846153847\n",
      "kernel: poly, accuracy: 0.9009615384615385\n",
      "kernel: rbf, accuracy: 0.8625\n"
     ]
    }
   ],
   "source": [
    "from sklearn import svm\n",
    "fold = KFold(n_splits=5)\n",
    "kernels = ['linear', 'sigmoid', 'poly', 'rbf']\n",
    "for i in kernels:\n",
    "\taccuracy = []\n",
    "\tfor train, test in fold.split(df.values):\n",
    "\t\t#print('train: %s, test: %s' % (df.values[train], df.values[test]))\n",
    "\t\tX_train = df.loc[:, 'koi_period':'koi_dikco_msky'].values[train]\n",
    "\t\tX_test = df.loc[:, 'koi_period':'koi_dikco_msky'].values[test]\n",
    "\t\ty_train = df['koi_disposition'].values[train]\n",
    "\t\ty_test = df['koi_disposition'].values[test]\n",
    "\t\t\n",
    "\t\tX_train = scaler.fit_transform(X_train)\n",
    "\t\tX_test = scaler.transform(X_test)\n",
    "\t\tmodelsvm = svm.SVC(kernel=i)\n",
    "\t\tmodelsvm.fit(X_train, y_train)\n",
    "\t\ty_pred = modelsvm.predict(X_test)\n",
    "\t\taccuracy.append(accuracy_score(y_test, y_pred))\n",
    "\tprint('kernel: %s, accuracy: %s' % (i, accuracy_score(y_test, y_pred)))"
   ]
  },
  {
   "cell_type": "markdown",
   "metadata": {},
   "source": [
    "Linear and polynomial kernels had very close results, while rbf was intermediary and sigmoid did not give a good representation.\n",
    "It is possible to realise that polynomial kernel gives a better representation of the data."
   ]
  },
  {
   "cell_type": "markdown",
   "metadata": {},
   "source": [
    "K-Nearest Neighbors\n",
    "This method classifies the data based on the nearest neighbors, and it is possible to alternate the number of nearest neighbors that the program will use.\n",
    "In the below cell, a KNN algorithm is used, alternating from k=1 to k=15 and getting the accuracy score of each one."
   ]
  },
  {
   "cell_type": "code",
   "execution_count": 8,
   "metadata": {},
   "outputs": [
    {
     "name": "stdout",
     "output_type": "stream",
     "text": [
      "nl: 1, accuracy: 0.7461538461538462\n",
      "nl: 2, accuracy: 0.8461538461538461\n",
      "nl: 3, accuracy: 0.7634615384615384\n",
      "nl: 4, accuracy: 0.8240384615384615\n",
      "nl: 5, accuracy: 0.7557692307692307\n",
      "nl: 6, accuracy: 0.7990384615384616\n",
      "nl: 7, accuracy: 0.7490384615384615\n",
      "nl: 8, accuracy: 0.7846153846153846\n",
      "nl: 9, accuracy: 0.7423076923076923\n",
      "nl: 10, accuracy: 0.7769230769230769\n",
      "nl: 11, accuracy: 0.7413461538461539\n",
      "nl: 12, accuracy: 0.7673076923076924\n",
      "nl: 13, accuracy: 0.7365384615384616\n",
      "nl: 14, accuracy: 0.7519230769230769\n",
      "nl: 15, accuracy: 0.7307692307692307\n"
     ]
    }
   ],
   "source": [
    "from sklearn.neighbors import KNeighborsClassifier\n",
    "n = list(range(1, 16))\n",
    "listt = []\n",
    "fold = KFold(n_splits=5)\n",
    "for i in n:\n",
    "\taccuracy = []\n",
    "\tfor train, test in fold.split(df.values):\n",
    "\t\t#print('train: %s, test: %s' % (df.values[train], df.values[test]))\n",
    "\t\tX_train = df.loc[:, 'koi_period':'koi_dikco_msky'].values[train]\n",
    "\t\tX_test = df.loc[:, 'koi_period':'koi_dikco_msky'].values[test]\n",
    "\t\ty_train = df['koi_disposition'].values[train]\n",
    "\t\ty_test = df['koi_disposition'].values[test]\n",
    "\t\t\n",
    "\t\tX_train = scaler.fit_transform(X_train)\n",
    "\t\tX_test = scaler.transform(X_test)\n",
    "\t\tmodel = KNeighborsClassifier(n_neighbors=i)\n",
    "\t\tmodel.fit(X_train, y_train)\n",
    "\t\ty_pred = model.predict(X_test)\n",
    "\t\taccuracy.append(accuracy_score(y_test, y_pred))\n",
    "\tlistt.append(sum(accuracy)/len(accuracy))\n",
    "\tprint('nl: %s, accuracy: %s' % (i, accuracy_score(y_test, y_pred)))\n",
    "\n",
    "\n"
   ]
  },
  {
   "cell_type": "markdown",
   "metadata": {},
   "source": [
    "As the model gets more complex, it is possible to notice  the overfitting, since the accuracy starts dropping after k=2. Even though it increases again in k=4,it's still worse than k=2, and the model gets more and more overfitted"
   ]
  },
  {
   "cell_type": "code",
   "execution_count": 21,
   "metadata": {},
   "outputs": [
    {
     "data": {
      "text/plain": [
       "[<matplotlib.lines.Line2D at 0x7f2473c9afa0>]"
      ]
     },
     "execution_count": 21,
     "metadata": {},
     "output_type": "execute_result"
    },
    {
     "data": {
      "image/png": "[encoded data removed]",
      "text/plain": [
       "<Figure size 432x288 with 1 Axes>"
      ]
     },
     "metadata": {
      "needs_background": "light"
     },
     "output_type": "display_data"
    }
   ],
   "source": [
    "plt.plot(listt)"
   ]
  },
  {
   "cell_type": "markdown",
   "metadata": {},
   "source": [
    "Random forest\n",
    "\n",
    "Now, the number of trees used in the model can be modified, resulting in different values for the accuracy and increasing the complexity of the model as the number of trees is increased."
   ]
  },
  {
   "cell_type": "code",
   "execution_count": 9,
   "metadata": {},
   "outputs": [
    {
     "name": "stdout",
     "output_type": "stream",
     "text": [
      "n: 1, accuracy: 0.7009615384615384\n",
      "n: 2, accuracy: 0.8269230769230769\n",
      "n: 3, accuracy: 0.8298076923076924\n",
      "n: 4, accuracy: 0.8509615384615384\n",
      "n: 5, accuracy: 0.8990384615384616\n",
      "n: 6, accuracy: 0.9182692307692307\n",
      "n: 7, accuracy: 0.948076923076923\n",
      "n: 8, accuracy: 0.9605769230769231\n",
      "n: 9, accuracy: 0.9605769230769231\n",
      "n: 10, accuracy: 0.9634615384615385\n",
      "n: 11, accuracy: 0.9673076923076923\n",
      "n: 12, accuracy: 0.9682692307692308\n",
      "n: 13, accuracy: 0.9673076923076923\n",
      "n: 14, accuracy: 0.975\n",
      "n: 15, accuracy: 0.9730769230769231\n",
      "n: 16, accuracy: 0.9721153846153846\n",
      "n: 17, accuracy: 0.9711538461538461\n",
      "n: 18, accuracy: 0.9740384615384615\n",
      "n: 19, accuracy: 0.9759615384615384\n",
      "n: 20, accuracy: 0.9769230769230769\n"
     ]
    }
   ],
   "source": [
    "from sklearn.ensemble import RandomForestClassifier\n",
    "n = list(range(1, 21))\n",
    "listt = []\n",
    "fold = KFold(n_splits=5)\n",
    "for i in n:\n",
    "\taccuracy = []\n",
    "\tfor train, test in fold.split(df.values):\n",
    "\t\t#print('train: %s, test: %s' % (df.values[train], df.values[test]))\n",
    "\t\tX_train = df.loc[:, 'koi_period':'koi_dikco_msky'].values[train]\n",
    "\t\tX_test = df.loc[:, 'koi_period':'koi_dikco_msky'].values[test]\n",
    "\t\ty_train = df['koi_disposition'].values[train]\n",
    "\t\ty_test = df['koi_disposition'].values[test]\n",
    "\t\t\n",
    "\t\tX_train = scaler.fit_transform(X_train)\n",
    "\t\tX_test = scaler.transform(X_test)\n",
    "\t\tif (i==n[-1]):\n",
    "\t\t\tmodel = RandomForestClassifier(max_depth=None)\n",
    "\t\telse:\n",
    "\t\t\tmodel = RandomForestClassifier(max_depth=i)\n",
    "\t\tmodel.fit(X_train, y_train)\n",
    "\t\ty_pred = model.predict(X_test)\n",
    "\t\taccuracy.append(accuracy_score(y_test, y_pred))\n",
    "\tlistt.append(sum(accuracy)/len(accuracy))\n",
    "\tprint('n: %s, accuracy: %s' % (i, accuracy_score(y_test, y_pred)))\n",
    "\n",
    "\n"
   ]
  },
  {
   "cell_type": "code",
   "execution_count": 25,
   "metadata": {},
   "outputs": [
    {
     "data": {
      "text/plain": [
       "[<matplotlib.lines.Line2D at 0x7f2473f03be0>]"
      ]
     },
     "execution_count": 25,
     "metadata": {},
     "output_type": "execute_result"
    },
    {
     "data": {
      "image/png": "[encoded data removed]",
      "text/plain": [
       "<Figure size 432x288 with 1 Axes>"
      ]
     },
     "metadata": {
      "needs_background": "light"
     },
     "output_type": "display_data"
    }
   ],
   "source": [
    "plt.plot(listt)"
   ]
  },
  {
   "cell_type": "markdown",
   "metadata": {},
   "source": [
    "Random Forest was, by far, the best method until now, it returned a very high accuracy, greater than 97%. Also, it's possible to notice that it started overfitting after n=9, the accuracy didn't increased significantly."
   ]
  },
  {
   "cell_type": "markdown",
   "metadata": {},
   "source": [
    "Gradient Tree Boosting\n",
    "In this method, it is possible to modify the number of iterations and, therefore, increase the complexity of the model."
   ]
  },
  {
   "cell_type": "code",
   "execution_count": 10,
   "metadata": {},
   "outputs": [
    {
     "name": "stdout",
     "output_type": "stream",
     "text": [
      "n: 1, accuracy: 0.9105769230769231\n",
      "n: 2, accuracy: 0.9\n",
      "n: 3, accuracy: 0.9076923076923077\n",
      "n: 4, accuracy: 0.9086538461538461\n",
      "n: 5, accuracy: 0.8586538461538461\n",
      "n: 6, accuracy: 0.9019230769230769\n",
      "n: 7, accuracy: 0.9144230769230769\n",
      "n: 8, accuracy: 0.9115384615384615\n",
      "n: 9, accuracy: 0.9134615384615384\n",
      "n: 10, accuracy: 0.9192307692307692\n",
      "n: 11, accuracy: 0.9144230769230769\n",
      "n: 12, accuracy: 0.9240384615384616\n",
      "n: 13, accuracy: 0.948076923076923\n",
      "n: 14, accuracy: 0.9317307692307693\n",
      "n: 15, accuracy: 0.9451923076923077\n",
      "n: 16, accuracy: 0.9451923076923077\n",
      "n: 17, accuracy: 0.9442307692307692\n",
      "n: 18, accuracy: 0.9528846153846153\n",
      "n: 19, accuracy: 0.9557692307692308\n",
      "n: 20, accuracy: 0.9586538461538462\n"
     ]
    }
   ],
   "source": [
    "from sklearn.ensemble import GradientBoostingClassifier\n",
    "n = list(range(1, 21))\n",
    "listt = []\n",
    "fold = KFold(n_splits=5)\n",
    "for i in n:\n",
    "\taccuracy = []\n",
    "\tfor train, test in fold.split(df.values):\n",
    "\t\t#print('train: %s, test: %s' % (df.values[train], df.values[test]))\n",
    "\t\tX_train = df.loc[:, 'koi_period':'koi_dikco_msky'].values[train]\n",
    "\t\tX_test = df.loc[:, 'koi_period':'koi_dikco_msky'].values[test]\n",
    "\t\ty_train = df['koi_disposition'].values[train]\n",
    "\t\ty_test = df['koi_disposition'].values[test]\n",
    "\t\t\n",
    "\t\tX_train = scaler.fit_transform(X_train)\n",
    "\t\tX_test = scaler.transform(X_test)\n",
    "\t\tmodel = GradientBoostingClassifier(n_estimators=i)\n",
    "\t\tmodel.fit(X_train, y_train)\n",
    "\t\ty_pred = model.predict(X_test)\n",
    "\t\taccuracy.append(accuracy_score(y_test, y_pred))\n",
    "\tlistt.append(sum(accuracy)/len(accuracy))\n",
    "\tprint('n: %s, accuracy: %s' % (i, accuracy_score(y_test, y_pred)))\n",
    "\n",
    "\n"
   ]
  },
  {
   "cell_type": "code",
   "execution_count": 28,
   "metadata": {},
   "outputs": [
    {
     "data": {
      "text/plain": [
       "[<matplotlib.lines.Line2D at 0x7f24740964c0>]"
      ]
     },
     "execution_count": 28,
     "metadata": {},
     "output_type": "execute_result"
    },
    {
     "data": {
      "image/png": "[encoded data removed]",
      "text/plain": [
       "<Figure size 432x288 with 1 Axes>"
      ]
     },
     "metadata": {
      "needs_background": "light"
     },
     "output_type": "display_data"
    }
   ],
   "source": [
    "plt.plot(listt)"
   ]
  },
  {
   "cell_type": "markdown",
   "metadata": {},
   "source": [
    "The model didn't properly overfit, but it's easy to observe that it stopped increasing significantly  after 13 iterations, and it also had very good results."
   ]
  },
  {
   "cell_type": "markdown",
   "metadata": {},
   "source": [
    "ROC Curve plot"
   ]
  },
  {
   "cell_type": "code",
   "execution_count": 24,
   "metadata": {},
   "outputs": [],
   "source": [
    "from sklearn.metrics import roc_curve\n",
    "X = df.loc[:, 'koi_period':'koi_dikco_msky']\n",
    "y = df['koi_disposition']\n",
    "X_train, X_test, y_train, y_test = train_test_split(X, y, test_size=0.25, random_state=0)\n"
   ]
  },
  {
   "cell_type": "code",
   "execution_count": 25,
   "metadata": {},
   "outputs": [],
   "source": [
    "modelnb = GaussianNB()\n",
    "modelnb.fit(X_train, y_train)\n",
    "nb= modelnb.predict(X_test)\n",
    "\n",
    "X_train = scaler.fit_transform(X_train)\n",
    "X_test = scaler.transform(X_test)\n",
    "\n",
    "modeldt = DecisionTreeClassifier(max_depth=5)\n",
    "modeldt.fit(X_train, y_train)\n",
    "dt = modeldt.predict(X_test)\n",
    "\n",
    "modelsvm = svm.SVC(kernel='poly')\n",
    "modelsvm.fit(X_train, y_train)\n",
    "sv = modelsvm.predict(X_test)\n",
    "\n",
    "modelknn = KNeighborsClassifier(n_neighbors=2)\n",
    "modelknn.fit(X_train, y_train)\n",
    "knn = modelknn.predict(X_test)\n",
    "\n",
    "modelrf = RandomForestClassifier(max_depth=20)\n",
    "modelrf.fit(X_train, y_train)\n",
    "rf = modelrf.predict(X_test)\n",
    "\n",
    "modelgb = GradientBoostingClassifier(n_estimators=20)\n",
    "modelgb.fit(X_train, y_train)\n",
    "gb = model.predict(X_test)\n",
    "\n"
   ]
  },
  {
   "cell_type": "code",
   "execution_count": 26,
   "metadata": {},
   "outputs": [],
   "source": [
    "from sklearn.metrics import roc_curve, roc_auc_score\n",
    "y = np.mean(accuracy)\n",
    "\n",
    "nb_auc = roc_auc_score(y_test, nb)\n",
    "dt_auc = roc_auc_score(y_test, dt)\n",
    "sv_auc = roc_auc_score(y_test, sv)\n",
    "knn_auc = roc_auc_score(y_test, knn)\n",
    "rf_auc = roc_auc_score(y_test, rf)\n",
    "gb_auc = roc_auc_score(y_test, gb)"
   ]
  },
  {
   "cell_type": "code",
   "execution_count": 27,
   "metadata": {},
   "outputs": [],
   "source": [
    "nb_fpr, nb_tpr, _ = roc_curve(y_test, nb)\n",
    "dt_fpr, dt_tpr, _ = roc_curve(y_test, dt)\n",
    "sv_fpr, sv_tpr, _ = roc_curve(y_test, sv)\n",
    "knn_fpr, knn_tpr, _ = roc_curve(y_test, knn)\n",
    "rf_fpr, rf_tpr, _ = roc_curve(y_test, rf)\n",
    "gb_fpr, gb_tpr, _ = roc_curve(y_test, gb)"
   ]
  },
  {
   "cell_type": "code",
   "execution_count": 29,
   "metadata": {},
   "outputs": [
    {
     "data": {
      "image/png": "[encoded data removed]",
      "text/plain": [
       "<Figure size 432x288 with 1 Axes>"
      ]
     },
     "metadata": {
      "needs_background": "light"
     },
     "output_type": "display_data"
    }
   ],
   "source": [
    "plt.plot(nb_fpr, nb_tpr, linestyle='--', label='Naive Bayes (AUROC = %0.3f)' % nb_auc)\n",
    "plt.plot(dt_fpr, dt_tpr, linestyle='--', label='Decision Trees (AUROC = %0.3f)' % dt_auc)\n",
    "plt.plot(sv_fpr, sv_tpr, linestyle='--', label='Support Vector Machine (AUROC = %0.3f)' % sv_auc)\n",
    "plt.plot(rf_fpr, rf_tpr, linestyle='--', label='Random Forest (AUROC = %0.3f)' % rf_auc)\n",
    "plt.plot(knn_fpr, knn_tpr, linestyle='--', label='K-Nearest Neighbors (AUROC = %0.3f)' % knn_auc)\n",
    "plt.plot(gb_fpr, gb_tpr, linestyle='--', label='Gradient Tree Boosting (AUROC = %0.3f)' % gb_auc)\n",
    "\n",
    "\n",
    "\n",
    "plt.title('ROC Plot')\n",
    "plt.xlabel('False Positive Rate')\n",
    "plt.ylabel('True Positive Rate')\n",
    "plt.legend() # \n",
    "plt.show()"
   ]
  },
  {
   "cell_type": "markdown",
   "metadata": {},
   "source": [
    "Precision-Recall Metric"
   ]
  },
  {
   "cell_type": "code",
   "execution_count": 32,
   "metadata": {},
   "outputs": [],
   "source": [
    "from sklearn.metrics import precision_recall_curve\n",
    "\n",
    "precision_nb, recall_nb, thresholds_nb = precision_recall_curve(y_test, nb)\n",
    "precision_svm, recall_svm, thresholds_svm = precision_recall_curve(y_test, sv)\n",
    "precision_knn, recall_knn, thresholds_knn = precision_recall_curve(y_test, knn)\n",
    "precision_dt, recall_dt, thresholds_dt = precision_recall_curve(y_test, dt)\n",
    "precision_rf, recall_rf, thresholds_rf = precision_recall_curve(y_test, rf)\n",
    "precision_gb, recall_gb, thresholds_gb = precision_recall_curve(y_test, gb)\n"
   ]
  },
  {
   "cell_type": "code",
   "execution_count": 35,
   "metadata": {},
   "outputs": [
    {
     "data": {
      "image/png": "[encoded data removed]",
      "text/plain": [
       "<Figure size 432x288 with 1 Axes>"
      ]
     },
     "metadata": {
      "needs_background": "light"
     },
     "output_type": "display_data"
    }
   ],
   "source": [
    "plt.plot(recall_nb, precision_nb, linestyle='--', label='Naive Bayes')\n",
    "plt.plot(recall_dt, precision_dt, linestyle='--', label='Decision Tree')\n",
    "plt.plot(recall_rf, precision_rf, linestyle='--', label='Random Forest')\n",
    "plt.plot(recall_svm, precision_svm, linestyle='--', label='SVM')\n",
    "plt.plot(recall_gb, precision_gb, linestyle='--', label='Gradient Tree Boosting')\n",
    "plt.plot(recall_knn, precision_knn, linestyle='--', label='KNN')\n",
    "\n",
    "\n",
    "plt.title('Precision-Recall Plot')\n",
    "plt.xlabel('Precision')\n",
    "plt.ylabel('Recall')\n",
    "plt.legend() # \n",
    "plt.show()"
   ]
  }
 ],
 "metadata": {
  "interpreter": {
   "hash": "767d51c1340bd893661ea55ea3124f6de3c7a262a8b4abca0554b478b1e2ff90"
  },
  "kernelspec": {
   "display_name": "Python 3.9.6 64-bit ('base': conda)",
   "name": "python3"
  },
  "language_info": {
   "name": "python",
   "version": ""
  },
  "orig_nbformat": 4
 },
 "nbformat": 4,
 "nbformat_minor": 2
}