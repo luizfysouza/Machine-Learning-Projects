{
 "cells": [
  {
   "cell_type": "code",
   "execution_count": 1,
   "metadata": {},
   "outputs": [],
   "source": [
    "import pandas as pd\n",
    "import numpy as np"
   ]
  },
  {
   "cell_type": "code",
   "execution_count": 2,
   "metadata": {},
   "outputs": [],
   "source": [
    "dataset = pd.read_csv('tic-tac-toe.txt', sep=',', names=['V1', 'V2', 'V3', 'V4', 'V5',\n",
    "                                                'V6', 'V7', 'V8', 'V9', 'V10'])"
   ]
  },
  {
   "cell_type": "code",
   "execution_count": 13,
   "metadata": {},
   "outputs": [],
   "source": [
    "def preprocess_inputs(df):\n",
    "    df = df.copy()\n",
    "    \n",
    "    # Encode label values as numbers\n",
    "    df['V10'] = df['V10'].replace({'negative': 0, 'positive': 1})\n",
    "    \n",
    "    # One-hot encode board space columns\n",
    "    df = onehot_encode(\n",
    "        df,\n",
    "        columns=['V' + str(i) for i in range(1, 10)]\n",
    "    )\n",
    "    \n",
    "    # Split df into X and y\n",
    "    y = df['V10'].copy()\n",
    "    X = df.drop('V10', axis=1).copy()\n",
    "    \n",
    "    X_train, X_test, y_train, y_test = train_test_split(X, y, train_size=0.75, random_state=None, shuffle=True)\n",
    "    \n",
    "    return X_train, X_test, y_train, y_test\n",
    "    \n",
    "def onehot_encode(df, columns):\n",
    "    df = df.copy()\n",
    "    for column in columns:\n",
    "        dummies = pd.get_dummies(df[column], prefix=column)\n",
    "        df = pd.concat([df, dummies], axis=1)\n",
    "        df = df.drop(column, axis=1)\n",
    "    return df\n"
   ]
  },
  {
   "cell_type": "code",
   "execution_count": 14,
   "metadata": {},
   "outputs": [],
   "source": [
    "from sklearn.model_selection import train_test_split\n",
    "#Applies one hot encoding to data and divides it into train and test\n",
    "X_train, X_test, y_train, y_test = preprocess_inputs(dataset)"
   ]
  },
  {
   "cell_type": "code",
   "execution_count": 16,
   "metadata": {},
   "outputs": [],
   "source": [
    "def compute_error(y, y_pred, w_i):\n",
    "    '''\n",
    "    Calculate the error rate of a weak classifier m. Arguments:\n",
    "    y: real target value\n",
    "    y_pred: value predicted by the weak classifier\n",
    "    w_i: individual weights for each observation\n",
    "    '''\n",
    "    return (sum(w_i * (np.not_equal(y, y_pred)).astype(int)))/sum(w_i)\n",
    "\n",
    "def compute_alpha(error):\n",
    "    '''\n",
    "    Calculate the weight of a weak classifier m in the majority vote of the final classifier.\n",
    "    error: error rate from weak classifier m\n",
    "    '''\n",
    "    return np.log((1 - error) / error)\n",
    "\n",
    "def update_weights(w_i, alpha, y, y_pred):\n",
    "    ''' \n",
    "    Update individual weights w_i after a boosting iteration\n",
    "    '''  \n",
    "    return w_i * np.exp(alpha * (np.not_equal(y, y_pred)).astype(int))"
   ]
  },
  {
   "cell_type": "code",
   "execution_count": 17,
   "metadata": {},
   "outputs": [],
   "source": [
    "\n",
    "from sklearn.tree import DecisionTreeClassifier\n",
    "class AdaBoost:\n",
    "    \n",
    "    def __init__(self):\n",
    "        self.alphas = []\n",
    "        self.G_M = []\n",
    "        self.M = None\n",
    "        self.training_errors = []\n",
    "        self.prediction_errors = []\n",
    "\n",
    "    def fit(self, X, y, M = 100):\n",
    "        '''\n",
    "        Fit model. Arguments:\n",
    "        '''\n",
    "        \n",
    "        # Clear before calling\n",
    "        self.alphas = [] \n",
    "        self.training_errors = []\n",
    "        self.M = M\n",
    "\n",
    "        # Iterate over M weak classifiers\n",
    "        for m in range(0, M):\n",
    "            \n",
    "            # Set weights for current boosting iteration\n",
    "            if m == 0:\n",
    "                w_i = np.ones(len(y)) * 1 / len(y)  # At m = 0, weights are all the same and equal to 1 / N\n",
    "            else:\n",
    "                # (d) Update w_i\n",
    "                w_i = update_weights(w_i, alpha_m, y, y_pred)\n",
    "            \n",
    "            # Fit weak classifier and predict labels\n",
    "            G_m = DecisionTreeClassifier(max_depth = 1)     # Stump: Two terminal-node classification tree\n",
    "            G_m.fit(X, y, sample_weight = w_i)\n",
    "            y_pred = G_m.predict(X)\n",
    "            \n",
    "            self.G_M.append(G_m) # Save to list of weak classifiers\n",
    "\n",
    "            # Compute error\n",
    "            error_m = compute_error(y, y_pred, w_i)\n",
    "            self.training_errors.append(error_m)\n",
    "\n",
    "            # Compute alpha\n",
    "            alpha_m = compute_alpha(error_m)\n",
    "            self.alphas.append(alpha_m)\n",
    "\n",
    "        assert len(self.G_M) == len(self.alphas)\n",
    "\n",
    "    def predict(self, X):\n",
    "        weak_preds = pd.DataFrame(index = range(len(X)), columns = range(self.M)) \n",
    "        # Predict class label for each weak classifier\n",
    "        for m in range(self.M):\n",
    "            y_pred_m = self.G_M[m].predict(X) * self.alphas[m]\n",
    "            weak_preds.iloc[:,m] = y_pred_m\n",
    "        # Calculate final predictions\n",
    "        y_pred = (1 * np.sign(weak_preds.T.sum())).astype(int)\n",
    "        return y_pred"
   ]
  },
  {
   "cell_type": "code",
   "execution_count": 21,
   "metadata": {},
   "outputs": [
    {
     "data": {
      "text/plain": [
       "0.6333333333333333"
      ]
     },
     "execution_count": 21,
     "metadata": {},
     "output_type": "execute_result"
    }
   ],
   "source": [
    "\n",
    "ab = AdaBoost()\n",
    "ab.fit(X_train.values, y_train.values, M = 40)\n",
    "\n",
    "# Predict on test set\n",
    "y_pred = ab.predict(X_test.values)\n",
    "\n",
    "from sklearn.metrics import accuracy_score\n",
    "accuracy_score(y_pred.values, y_test.values)"
   ]
  },
  {
   "cell_type": "code",
   "execution_count": null,
   "metadata": {},
   "outputs": [],
   "source": [
    "from sklearn.model_selection import KFold\n",
    "fold = KFold(n_splits=5)\n",
    "accuracy = []\n",
    "for train, test in fold.split(.values):"
   ]
  }
 ],
 "metadata": {
  "interpreter": {
   "hash": "767d51c1340bd893661ea55ea3124f6de3c7a262a8b4abca0554b478b1e2ff90"
  },
  "kernelspec": {
   "display_name": "Python 3.9.6 64-bit ('base': conda)",
   "name": "python3"
  },
  "language_info": {
   "codemirror_mode": {
    "name": "ipython",
    "version": 3
   },
   "file_extension": ".py",
   "mimetype": "text/x-python",
   "name": "python",
   "nbconvert_exporter": "python",
   "pygments_lexer": "ipython3",
   "version": "3.9.6"
  },
  "orig_nbformat": 4
 },
 "nbformat": 4,
 "nbformat_minor": 2
}